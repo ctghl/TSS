{
 "cells": [
  {
   "cell_type": "code",
   "execution_count": 1,
   "id": "3426f811",
   "metadata": {},
   "outputs": [
    {
     "name": "stdout",
     "output_type": "stream",
     "text": [
      "Collecting neo4jNote: you may need to restart the kernel to use updated packages.\n",
      "\n",
      "  Downloading neo4j-4.4.3.tar.gz (90 kB)\n",
      "Requirement already satisfied: pytz in c:\\users\\18483\\anaconda3\\lib\\site-packages (from neo4j) (2021.3)\n",
      "Building wheels for collected packages: neo4j\n",
      "  Building wheel for neo4j (setup.py): started\n",
      "  Building wheel for neo4j (setup.py): finished with status 'done'\n",
      "  Created wheel for neo4j: filename=neo4j-4.4.3-py3-none-any.whl size=116068 sha256=0138860db9f6fa1ba9b62191e1def0cd8bc56af41c71d141713bf1c7d6c5f997\n",
      "  Stored in directory: c:\\users\\18483\\appdata\\local\\pip\\cache\\wheels\\a0\\8c\\08\\e5396fee5c4d6c2e7901c049aad7aec428eafe2d752565019c\n",
      "Successfully built neo4j\n",
      "Installing collected packages: neo4j\n",
      "Successfully installed neo4j-4.4.3\n"
     ]
    }
   ],
   "source": [
    "pip install neo4j"
   ]
  },
  {
   "cell_type": "code",
   "execution_count": 9,
   "id": "c66278a1",
   "metadata": {},
   "outputs": [
    {
     "ename": "ImportError",
     "evalue": "cannot import name 'Neo4jConnection' from 'neo4j' (C:\\Users\\18483\\anaconda3\\lib\\site-packages\\neo4j\\__init__.py)",
     "output_type": "error",
     "traceback": [
      "\u001b[1;31m---------------------------------------------------------------------------\u001b[0m",
      "\u001b[1;31mImportError\u001b[0m                               Traceback (most recent call last)",
      "\u001b[1;32m~\\AppData\\Local\\Temp/ipykernel_1264/1075955651.py\u001b[0m in \u001b[0;36m<module>\u001b[1;34m\u001b[0m\n\u001b[0;32m      1\u001b[0m \u001b[1;32mfrom\u001b[0m \u001b[0mneo4j\u001b[0m \u001b[1;32mimport\u001b[0m \u001b[0mGraphDatabase\u001b[0m\u001b[1;33m\u001b[0m\u001b[1;33m\u001b[0m\u001b[0m\n\u001b[1;32m----> 2\u001b[1;33m \u001b[1;32mfrom\u001b[0m \u001b[0mneo4j\u001b[0m \u001b[1;32mimport\u001b[0m \u001b[0mNeo4jConnection\u001b[0m\u001b[1;33m\u001b[0m\u001b[1;33m\u001b[0m\u001b[0m\n\u001b[0m",
      "\u001b[1;31mImportError\u001b[0m: cannot import name 'Neo4jConnection' from 'neo4j' (C:\\Users\\18483\\anaconda3\\lib\\site-packages\\neo4j\\__init__.py)"
     ]
    }
   ],
   "source": [
    "from neo4j import GraphDatabase\n",
    "from neo4j import Neo4jConnection"
   ]
  },
  {
   "cell_type": "code",
   "execution_count": 4,
   "id": "eb4924c0",
   "metadata": {},
   "outputs": [],
   "source": [
    "from neo4j import GraphDatabase\n",
    "class Neo4jConnection:\n",
    "    \n",
    "    def __init__(self, uri, user, pwd):\n",
    "        self.__uri = uri\n",
    "        self.__user = user\n",
    "        self.__pwd = pwd\n",
    "        self.__driver = None\n",
    "        try:\n",
    "            self.__driver = GraphDatabase.driver(self.__uri, auth=(self.__user, self.__pwd))\n",
    "        except Exception as e:\n",
    "            print(\"Failed to create the driver:\", e)\n",
    "        \n",
    "    def close(self):\n",
    "        if self.__driver is not None:\n",
    "            self.__driver.close()\n",
    "        \n",
    "    def query(self, query, db=None):\n",
    "        assert self.__driver is not None, \"Driver not initialized!\"\n",
    "        session = None\n",
    "        response = None\n",
    "        try: \n",
    "            session = self.__driver.session(database=db) if db is not None else self.__driver.session() \n",
    "            response = list(session.run(query))\n",
    "        except Exception as e:\n",
    "            print(\"Query failed:\", e)\n",
    "        finally: \n",
    "            if session is not None:\n",
    "                session.close()\n",
    "        return response"
   ]
  },
  {
   "cell_type": "code",
   "execution_count": 5,
   "id": "1cce2441",
   "metadata": {},
   "outputs": [],
   "source": [
    "conn = Neo4jConnection(uri=\"bolt:/localhost:7474\", user=\"neo4j\", pwd=\"19882001\")"
   ]
  },
  {
   "cell_type": "code",
   "execution_count": 6,
   "id": "0ea3748c",
   "metadata": {},
   "outputs": [
    {
     "data": {
      "text/plain": [
       "[<Record count(n)=215672>]"
      ]
     },
     "execution_count": 6,
     "metadata": {},
     "output_type": "execute_result"
    }
   ],
   "source": [
    "conn.query(\"MATCH (n) RETURN count(n)\")"
   ]
  },
  {
   "cell_type": "code",
   "execution_count": null,
   "id": "1609bb3b",
   "metadata": {},
   "outputs": [],
   "source": [
    "from pandas import DataFrame\n",
    "query_string = '''\n",
    "MATCH (p:Paper)\n",
    "RETURN \n",
    "'''\n",
    "dtf_data = DataFrame([dict(_) for _ in conn.query(query_string, db='coradb')])\n",
    "dtf_data.sample(10)"
   ]
  },
  {
   "cell_type": "code",
   "execution_count": 27,
   "id": "afc31b22",
   "metadata": {},
   "outputs": [
    {
     "name": "stdout",
     "output_type": "stream",
     "text": [
      "Query failed: {code: Neo.TransientError.General.OutOfMemoryError} {message: There is not enough memory to perform the current task. Please try increasing 'dbms.memory.heap.max_size' in the neo4j configuration (normally in 'conf/neo4j.conf' or, if you are using Neo4j Desktop, found through the user interface) or if you are running an embedded installation increase the heap by using '-Xmx' command line flag, and then restart the database.}\n"
     ]
    }
   ],
   "source": [
    "conn.query(\"MATCH (n) DETACH DELETE n\") ## удалить ноды"
   ]
  },
  {
   "cell_type": "code",
   "execution_count": 7,
   "id": "737dc27c",
   "metadata": {},
   "outputs": [
    {
     "name": "stdout",
     "output_type": "stream",
     "text": [
      "Query failed: {code: Neo.ClientError.Procedure.ProcedureNotFound} {message: There is no procedure with the name `gds.pageRank.stream` registered for this database instance. Please ensure you've spelled the procedure name correctly and that the procedure is properly deployed.}\n",
      "Query failed: {code: Neo.ClientError.Database.DatabaseNotFound} {message: Database does not exist. Database name: 'coradb'.}\n"
     ]
    }
   ],
   "source": [
    "query_string = '''\n",
    "CALL gds.pageRank.stream('neo4j', {\n",
    "  writeProperty: 'pagerank'\n",
    "})\n",
    "YIELD nodePropertiesWritten, ranIterations\n",
    "'''\n",
    "conn.query(query_string, db='neo4j')\n",
    "\n",
    "query_string = '''\n",
    "CALL gds.betweenness.stream('neo4j', { \n",
    "  writeProperty: 'betweenness' })н  \n",
    "YIELD minimumScore, maximumScore, scoreSum, nodePropertiesWritten\n",
    "'''\n",
    "conn.query(query_string, db='coradb')"
   ]
  },
  {
   "cell_type": "code",
   "execution_count": null,
   "id": "8b602902",
   "metadata": {},
   "outputs": [],
   "source": []
  }
 ],
 "metadata": {
  "kernelspec": {
   "display_name": "Python 3 (ipykernel)",
   "language": "python",
   "name": "python3"
  },
  "language_info": {
   "codemirror_mode": {
    "name": "ipython",
    "version": 3
   },
   "file_extension": ".py",
   "mimetype": "text/x-python",
   "name": "python",
   "nbconvert_exporter": "python",
   "pygments_lexer": "ipython3",
   "version": "3.9.7"
  }
 },
 "nbformat": 4,
 "nbformat_minor": 5
}
